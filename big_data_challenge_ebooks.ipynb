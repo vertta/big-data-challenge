{
  "cells": [
    {
      "cell_type": "code",
      "execution_count": 2,
      "metadata": {
        "colab": {
          "base_uri": "https://localhost:8080/"
        },
        "id": "9x0bl7Fbd6C2",
        "outputId": "1b2ceb37-b2f7-43a6-e4de-3aefd412207a"
      },
      "outputs": [
        {
          "output_type": "stream",
          "name": "stdout",
          "text": [
            "\r0% [Working]\r            \rGet:1 https://cloud.r-project.org/bin/linux/ubuntu bionic-cran40/ InRelease [3,626 B]\n",
            "\r0% [Connecting to archive.ubuntu.com] [Waiting for headers] [1 InRelease 0 B/3,\r0% [Connecting to archive.ubuntu.com] [Waiting for headers] [Connected to devel\r0% [1 InRelease gpgv 3,626 B] [Connecting to archive.ubuntu.com] [Waiting for h\r                                                                               \rIgn:2 https://developer.download.nvidia.com/compute/machine-learning/repos/ubuntu1804/x86_64  InRelease\n",
            "\r0% [1 InRelease gpgv 3,626 B] [Connecting to archive.ubuntu.com] [Waiting for h\r                                                                               \rHit:3 https://developer.download.nvidia.com/compute/cuda/repos/ubuntu1804/x86_64  InRelease\n",
            "\r0% [1 InRelease gpgv 3,626 B] [Connecting to archive.ubuntu.com] [Waiting for h\r                                                                               \rGet:4 http://security.ubuntu.com/ubuntu bionic-security InRelease [88.7 kB]\n",
            "Hit:5 https://developer.download.nvidia.com/compute/machine-learning/repos/ubuntu1804/x86_64  Release\n",
            "Hit:6 http://ppa.launchpad.net/c2d4u.team/c2d4u4.0+/ubuntu bionic InRelease\n",
            "Hit:7 http://archive.ubuntu.com/ubuntu bionic InRelease\n",
            "Hit:8 http://ppa.launchpad.net/cran/libgit2/ubuntu bionic InRelease\n",
            "Get:9 http://archive.ubuntu.com/ubuntu bionic-updates InRelease [88.7 kB]\n",
            "Hit:11 http://ppa.launchpad.net/deadsnakes/ppa/ubuntu bionic InRelease\n",
            "Get:12 http://archive.ubuntu.com/ubuntu bionic-backports InRelease [83.3 kB]\n",
            "Hit:13 http://ppa.launchpad.net/graphics-drivers/ppa/ubuntu bionic InRelease\n",
            "Get:14 http://security.ubuntu.com/ubuntu bionic-security/universe amd64 Packages [1,559 kB]\n",
            "Get:15 http://security.ubuntu.com/ubuntu bionic-security/multiverse amd64 Packages [22.8 kB]\n",
            "Get:16 http://security.ubuntu.com/ubuntu bionic-security/main amd64 Packages [3,065 kB]\n",
            "Get:17 http://security.ubuntu.com/ubuntu bionic-security/restricted amd64 Packages [1,262 kB]\n",
            "Get:18 http://archive.ubuntu.com/ubuntu bionic-updates/restricted amd64 Packages [1,303 kB]\n",
            "Get:19 http://archive.ubuntu.com/ubuntu bionic-updates/multiverse amd64 Packages [29.9 kB]\n",
            "Get:20 http://archive.ubuntu.com/ubuntu bionic-updates/main amd64 Packages [3,493 kB]\n",
            "Get:21 http://archive.ubuntu.com/ubuntu bionic-updates/universe amd64 Packages [2,333 kB]\n",
            "Fetched 13.3 MB in 4s (3,186 kB/s)\n",
            "Reading package lists... Done\n"
          ]
        }
      ],
      "source": [
        "import os\n",
        "# Find the latest version of spark 3.2  from http://www.apache.org/dist/spark/ and enter as the spark version\n",
        "# For example:\n",
        "spark_version = 'spark-3.2.2'\n",
        "os.environ['SPARK_VERSION']=spark_version\n",
        "\n",
        "# Install Spark and Java\n",
        "!apt-get update\n",
        "!apt-get install openjdk-8-jdk-headless -qq > /dev/null\n",
        "!wget -q http://www.apache.org/dist/spark/$SPARK_VERSION/$SPARK_VERSION-bin-hadoop2.7.tgz\n",
        "!tar xf $SPARK_VERSION-bin-hadoop2.7.tgz\n",
        "!pip install -q findspark\n",
        "\n",
        "# Set Environment Variables\n",
        "os.environ[\"JAVA_HOME\"] = \"/usr/lib/jvm/java-8-openjdk-amd64\"\n",
        "os.environ[\"SPARK_HOME\"] = f\"/content/{spark_version}-bin-hadoop2.7\"\n",
        "\n",
        "# Start a SparkSession\n",
        "import findspark\n",
        "findspark.init()"
      ]
    },
    {
      "cell_type": "code",
      "execution_count": 3,
      "metadata": {
        "colab": {
          "base_uri": "https://localhost:8080/"
        },
        "id": "lEqSpg1j1jbB",
        "outputId": "3ebe9ece-3d41-4bc7-fc33-a94beabf9f9e"
      },
      "outputs": [
        {
          "output_type": "stream",
          "name": "stdout",
          "text": [
            "--2022-11-15 23:34:12--  https://jdbc.postgresql.org/download/postgresql-42.2.9.jar\n",
            "Resolving jdbc.postgresql.org (jdbc.postgresql.org)... 72.32.157.228, 2001:4800:3e1:1::228\n",
            "Connecting to jdbc.postgresql.org (jdbc.postgresql.org)|72.32.157.228|:443... connected.\n",
            "HTTP request sent, awaiting response... 200 OK\n",
            "Length: 914037 (893K) [application/java-archive]\n",
            "Saving to: ‘postgresql-42.2.9.jar’\n",
            "\n",
            "postgresql-42.2.9.j 100%[===================>] 892.61K  5.51MB/s    in 0.2s    \n",
            "\n",
            "2022-11-15 23:34:13 (5.51 MB/s) - ‘postgresql-42.2.9.jar’ saved [914037/914037]\n",
            "\n"
          ]
        }
      ],
      "source": [
        "!wget https://jdbc.postgresql.org/download/postgresql-42.2.9.jar"
      ]
    },
    {
      "cell_type": "code",
      "execution_count": 4,
      "metadata": {
        "id": "z8iKgfoxqcY9"
      },
      "outputs": [],
      "source": [
        "# create spark session\n",
        "\n",
        "from pyspark.sql import SparkSession\n",
        "from pyspark.sql.types import IntegerType,BooleanType,DateType\n",
        "spark = SparkSession.builder.appName(\"big-data-challenge\").config(\"spark.driver.extraClassPath\",\"/content/postgresql-42.2.9.jar\").getOrCreate()"
      ]
    },
    {
      "cell_type": "code",
      "execution_count": 5,
      "metadata": {
        "colab": {
          "base_uri": "https://localhost:8080/"
        },
        "id": "EDPM3QpkqkyW",
        "outputId": "2d63a657-9024-48b4-dbf5-3691e659edd7"
      },
      "outputs": [
        {
          "output_type": "stream",
          "name": "stdout",
          "text": [
            "+-----------+-----------+--------------+----------+--------------+--------------------+--------------------+-----------+-------------+-----------+----+-----------------+--------------------+--------------------+-------------------+\n",
            "|marketplace|customer_id|     review_id|product_id|product_parent|       product_title|    product_category|star_rating|helpful_votes|total_votes|vine|verified_purchase|     review_headline|         review_body|        review_date|\n",
            "+-----------+-----------+--------------+----------+--------------+--------------------+--------------------+-----------+-------------+-----------+----+-----------------+--------------------+--------------------+-------------------+\n",
            "|         US|   35471030|R1C5OK9AND7PRP|B00AHK07V0|     175130663|Hunter's Moon (A ...|Digital_Ebook_Pur...|          5|            0|          0|   N|                Y|Shugak is like a ...|This is the most ...|2015-01-31 00:08:00|\n",
            "|         US|   26579324|R333RNBQMPVUFT|B014085WTQ|     859232728|Flying Toward For...|Digital_Ebook_Pur...|          5|            0|          0|   N|                Y|For the young hea...|This story holds ...|2015-01-31 00:08:00|\n",
            "|         US|    9152364|R2A2K0GTNSKXM1|B0113MFPN0|     411472516|Falling For A Rea...|Digital_Ebook_Pur...|          5|            0|          0|   N|                N|          Five Stars|A true love story...|2015-01-31 00:08:00|\n",
            "|         US|   52087605|R365LAQ9REV876|B00T8RIK7G|     353828021|   The Good Neighbor|Digital_Ebook_Pur...|          3|            0|          0|   N|                Y|Not really my typ...|A bit contrived a...|2015-01-31 00:08:00|\n",
            "|         US|   46454660|R294OF3SNH6SWZ|B00EMXBDMA|     803172158|The Martian: A Novel|Digital_Ebook_Pur...|          4|            0|          0|   N|                Y|Coming soon to a ...|Moved well. Seeme...|2015-01-31 00:08:00|\n",
            "|         US|   33168429|R2OMRH58WYEEP9|B00GL3OJIY|     325772386|The Painter: A novel|Digital_Ebook_Pur...|          5|            0|          0|   N|                N|        I liked it a|Very different an...|2015-01-31 00:08:00|\n",
            "|         US|   18546798| RBFXYUJZIH5JR|B00RW30QE8|     236508296|        METEOR STORM|Digital_Ebook_Pur...|          5|            0|          0|   N|                Y|The author delive...|Once I started re...|2015-01-31 00:08:00|\n",
            "|         US|   47463409|R2K2RSBNV42HU4|B0101AE85Q|     924272105|Diary of a Crazy ...|Digital_Ebook_Pur...|          5|            0|          0|   N|                N|This book is amaz...|Super quality, gr...|2015-01-31 00:08:00|\n",
            "|         US|   11767467|R2CLRFFJ5HJSU3|B00IO7QAI2|     393059633|Unlocking Potenti...|Digital_Ebook_Pur...|          4|            0|          0|   N|                N|          Four Stars|    A useful primer.|2015-01-31 00:08:00|\n",
            "|         US|   14241457| RS1O7V45AADDO|B00PM995TG|     529331494|The Einstein Prop...|Digital_Ebook_Pur...|          4|            0|          0|   N|                Y|          Four Stars|   enjoyed the story|2015-01-31 00:08:00|\n",
            "+-----------+-----------+--------------+----------+--------------+--------------------+--------------------+-----------+-------------+-----------+----+-----------------+--------------------+--------------------+-------------------+\n",
            "only showing top 10 rows\n",
            "\n"
          ]
        }
      ],
      "source": [
        "from pyspark import SparkFiles\n",
        "# Load file\n",
        "\n",
        "url = \"https://s3.amazonaws.com/amazon-reviews-pds/tsv/amazon_reviews_us_Digital_Ebook_Purchase_v1_00.tsv.gz\" \n",
        "# get data from amazon S3 and  unzip extract files \n",
        "\n",
        "spark.sparkContext.addFile(url)\n",
        "\n",
        "ebooks_df = spark.read.csv(SparkFiles.get(\"amazon_reviews_us_Digital_Ebook_Purchase_v1_00.tsv.gz\"), header=True, inferSchema=True, sep='\\t', timestampFormat=\"yyyy-mm-dd\")\n",
        "\n",
        "ebooks_df.show(10)"
      ]
    },
    {
      "cell_type": "code",
      "execution_count": 6,
      "metadata": {
        "colab": {
          "base_uri": "https://localhost:8080/"
        },
        "id": "SIbJQnAK3I5Q",
        "outputId": "a63964d9-d14e-47b0-8a66-9370a256c36f"
      },
      "outputs": [
        {
          "output_type": "stream",
          "name": "stdout",
          "text": [
            "The of records for the ebooks data set is: 12520722\n"
          ]
        }
      ],
      "source": [
        "\n",
        "print (\"The of records for the ebooks data set is:\",ebooks_df.count())\n"
      ]
    },
    {
      "cell_type": "code",
      "execution_count": 7,
      "metadata": {
        "colab": {
          "base_uri": "https://localhost:8080/"
        },
        "id": "W6IfDTLX68Vw",
        "outputId": "88a21c34-32ff-49eb-e147-0a5137f8e071"
      },
      "outputs": [
        {
          "output_type": "stream",
          "name": "stdout",
          "text": [
            "+-----------+-----------+--------------+----------+--------------+--------------------+--------------------+-----------+-------------+-----------+----+-----------------+--------------------+--------------------+-------------------+\n",
            "|marketplace|customer_id|     review_id|product_id|product_parent|       product_title|    product_category|star_rating|helpful_votes|total_votes|vine|verified_purchase|     review_headline|         review_body|        review_date|\n",
            "+-----------+-----------+--------------+----------+--------------+--------------------+--------------------+-----------+-------------+-----------+----+-----------------+--------------------+--------------------+-------------------+\n",
            "|         US|   35471030|R1C5OK9AND7PRP|B00AHK07V0|     175130663|Hunter's Moon (A ...|Digital_Ebook_Pur...|          5|            0|          0|   N|                Y|Shugak is like a ...|This is the most ...|2015-01-31 00:08:00|\n",
            "|         US|   26579324|R333RNBQMPVUFT|B014085WTQ|     859232728|Flying Toward For...|Digital_Ebook_Pur...|          5|            0|          0|   N|                Y|For the young hea...|This story holds ...|2015-01-31 00:08:00|\n",
            "|         US|    9152364|R2A2K0GTNSKXM1|B0113MFPN0|     411472516|Falling For A Rea...|Digital_Ebook_Pur...|          5|            0|          0|   N|                N|          Five Stars|A true love story...|2015-01-31 00:08:00|\n",
            "|         US|   52087605|R365LAQ9REV876|B00T8RIK7G|     353828021|   The Good Neighbor|Digital_Ebook_Pur...|          3|            0|          0|   N|                Y|Not really my typ...|A bit contrived a...|2015-01-31 00:08:00|\n",
            "|         US|   46454660|R294OF3SNH6SWZ|B00EMXBDMA|     803172158|The Martian: A Novel|Digital_Ebook_Pur...|          4|            0|          0|   N|                Y|Coming soon to a ...|Moved well. Seeme...|2015-01-31 00:08:00|\n",
            "|         US|   33168429|R2OMRH58WYEEP9|B00GL3OJIY|     325772386|The Painter: A novel|Digital_Ebook_Pur...|          5|            0|          0|   N|                N|        I liked it a|Very different an...|2015-01-31 00:08:00|\n",
            "|         US|   18546798| RBFXYUJZIH5JR|B00RW30QE8|     236508296|        METEOR STORM|Digital_Ebook_Pur...|          5|            0|          0|   N|                Y|The author delive...|Once I started re...|2015-01-31 00:08:00|\n",
            "|         US|   47463409|R2K2RSBNV42HU4|B0101AE85Q|     924272105|Diary of a Crazy ...|Digital_Ebook_Pur...|          5|            0|          0|   N|                N|This book is amaz...|Super quality, gr...|2015-01-31 00:08:00|\n",
            "|         US|   11767467|R2CLRFFJ5HJSU3|B00IO7QAI2|     393059633|Unlocking Potenti...|Digital_Ebook_Pur...|          4|            0|          0|   N|                N|          Four Stars|    A useful primer.|2015-01-31 00:08:00|\n",
            "|         US|   14241457| RS1O7V45AADDO|B00PM995TG|     529331494|The Einstein Prop...|Digital_Ebook_Pur...|          4|            0|          0|   N|                Y|          Four Stars|   enjoyed the story|2015-01-31 00:08:00|\n",
            "|         US|   52821351| RYD2AF3KUC4OL|B00K4C4GVI|     310020786|Make It Ahead: A ...|Digital_Ebook_Pur...|          5|            2|          2|   N|                Y|Because of her I ...|This isn't the he...|2015-01-31 00:08:00|\n",
            "|         US|   14416837| RHQTCPUF1CXY2|B00PUSKG8I|     683060701|The Shipwreck of ...|Digital_Ebook_Pur...|          4|            0|          0|   N|                Y|Very interesting ...|This is a very qu...|2015-01-31 00:08:00|\n",
            "|         US|   17189419|R3371UTDP6I1FU|B00FNCSBCE|     813812785|20 Compelling Evi...|Digital_Ebook_Pur...|          5|            0|          0|   N|                Y|           Excellent|For some reason I...|2015-01-31 00:08:00|\n",
            "|         US|   44043796|R2RI2S5Q90RG23|B004XFYN9M|     972973628|   What Alice Forgot|Digital_Ebook_Pur...|          5|            0|          0|   N|                Y|           good read|Good character de...|2015-01-31 00:08:00|\n",
            "|         US|   24135769| RCYE82T9GRT48|B00K0OI42W|     994527755|To Kill a Mocking...|Digital_Ebook_Pur...|          5|            0|          0|   N|                Y|I last read it in...|This was a reread...|2015-01-31 00:08:00|\n",
            "|         US|   47496659|R12T8WK03VQNC5|B00N2HHPQU|     886553830|The Housewife Ass...|Digital_Ebook_Pur...|          4|            1|          1|   N|                Y|          Four Stars|           enjoyable|2015-01-31 00:08:00|\n",
            "|         US|   21051459|R3RVME26X4DGJX|B00ZPCLT0S|     296387019|Illusive (Storm M...|Digital_Ebook_Pur...|          5|            0|          0|   N|                N|           Fantastic|Oh how UNFAIR thi...|2015-01-31 00:08:00|\n",
            "|         US|   45295639|R3BME7NLVCMJHW|B00QSNV82C|     506388384|A Mansion, A Drag...|Digital_Ebook_Pur...|          4|            0|          0|   N|                Y|          Four Stars|Light reading, ve...|2015-01-31 00:08:00|\n",
            "|         US|   14443051|R1PKMRYLDMVN2P|B00PQL9U4K|      26715694|         Wolf Hunter|Digital_Ebook_Pur...|          3|            0|          0|   N|                Y|                Good|This is a ok book...|2015-01-31 00:08:00|\n",
            "|         US|   37039571|R1TR7VKTTJV505|B004FGMDOQ|     333044434|Miss Peregrine's ...|Digital_Ebook_Pur...|          5|            0|          0|   N|                N|          Five Stars|Great book! My st...|2015-01-31 00:08:00|\n",
            "+-----------+-----------+--------------+----------+--------------+--------------------+--------------------+-----------+-------------+-----------+----+-----------------+--------------------+--------------------+-------------------+\n",
            "only showing top 20 rows\n",
            "\n"
          ]
        }
      ],
      "source": [
        "# Drop null values, by default is any which means will drop any rows which has a NA\n",
        "ebooks_df = ebooks_df.dropna(how='any')\n",
        "ebooks_df.show()"
      ]
    },
    {
      "cell_type": "code",
      "execution_count": 8,
      "metadata": {
        "colab": {
          "base_uri": "https://localhost:8080/"
        },
        "id": "3PG305zMCeCd",
        "outputId": "4c553b48-9cb1-4bf8-8b89-eeaec27a5d8f"
      },
      "outputs": [
        {
          "output_type": "stream",
          "name": "stdout",
          "text": [
            "The count after dropping NA  12518702\n"
          ]
        }
      ],
      "source": [
        "# clean data by dropping NA and get count of data\n",
        "\n",
        "print(\"The count after dropping NA \", ebooks_df.count())"
      ]
    },
    {
      "cell_type": "code",
      "execution_count": 9,
      "metadata": {
        "colab": {
          "base_uri": "https://localhost:8080/"
        },
        "id": "SopC_Z33IHxV",
        "outputId": "de0f3b8a-d1eb-4312-95c4-ec46929caf67"
      },
      "outputs": [
        {
          "output_type": "stream",
          "name": "stdout",
          "text": [
            "The count after dropping dropping Duplicates  12518702\n"
          ]
        }
      ],
      "source": [
        "#drop duplicates \n",
        "ebooks_df = ebooks_df.dropDuplicates([\"review_id\",\"customer_id\", \"product_id\"])\n",
        "\n",
        "print(\"The count after dropping dropping Duplicates \", ebooks_df.count())"
      ]
    },
    {
      "cell_type": "code",
      "execution_count": 10,
      "metadata": {
        "colab": {
          "base_uri": "https://localhost:8080/"
        },
        "id": "1EMi-gWP9yXz",
        "outputId": "b23fce94-3a67-4bc4-fbc6-ae046ec23f8c"
      },
      "outputs": [
        {
          "output_type": "stream",
          "name": "stdout",
          "text": [
            "+-----------+--------------+\n",
            "|customer_id|customer_count|\n",
            "+-----------+--------------+\n",
            "|   30412198|            32|\n",
            "|   10488134|            28|\n",
            "|   19530671|           578|\n",
            "|   16395903|             4|\n",
            "|   14898270|             2|\n",
            "|   25447005|             7|\n",
            "|   11933163|             1|\n",
            "|   26248773|           511|\n",
            "|   30336397|             2|\n",
            "|   41952424|            13|\n",
            "+-----------+--------------+\n",
            "only showing top 10 rows\n",
            "\n"
          ]
        }
      ],
      "source": [
        "#create dataframe that corresponds to customers table  with counts of records per user\n",
        "customer_info_df = ebooks_df.groupby(\"customer_id\").agg({\"customer_id\": \"count\"})\n",
        "customer_info_df = customer_info_df.withColumnRenamed(\"count(customer_id)\", \"customer_count\")\n",
        "customer_info_df.show(10)\n",
        "\n"
      ]
    },
    {
      "cell_type": "code",
      "execution_count": 11,
      "metadata": {
        "colab": {
          "base_uri": "https://localhost:8080/"
        },
        "id": "L7Lq3kFC70R6",
        "outputId": "b2572b0e-a737-4c2d-c795-ef9e7d95b3b9"
      },
      "outputs": [
        {
          "output_type": "stream",
          "name": "stdout",
          "text": [
            "+----------+--------------------+\n",
            "|product_id|       product_title|\n",
            "+----------+--------------------+\n",
            "|B00CGOSBTU|          Dark Space|\n",
            "|B00WYJ2M24|Hearts of the Wes...|\n",
            "|B00ILD4C8E|Can't Shake You (...|\n",
            "|B00ILYTJS6|Lead: A Stage Div...|\n",
            "|B00JI4ZSF6|Saint Odd: An Odd...|\n",
            "|B00Q604NUG|Young, Restless A...|\n",
            "|B00KLS30RQ|     Wife on the Run|\n",
            "|B005CWUFAQ|Teaching the Tree...|\n",
            "|B00FX6OYL2|Crock Pot Recipes...|\n",
            "|B00JQQ1QQ6|Winds of Skilak: ...|\n",
            "+----------+--------------------+\n",
            "only showing top 10 rows\n",
            "\n"
          ]
        },
        {
          "output_type": "execute_result",
          "data": {
            "text/plain": [
              "[('product_id', 'string'), ('product_title', 'string')]"
            ]
          },
          "metadata": {},
          "execution_count": 11
        }
      ],
      "source": [
        "##create dataframe that corresponds to columns in Products to load into data\n",
        "product_df = ebooks_df.select([\"product_id\",\"product_title\"])\n",
        "product_df.show(10)\n",
        "product_df.dtypes\n"
      ]
    },
    {
      "cell_type": "code",
      "execution_count": 12,
      "metadata": {
        "colab": {
          "base_uri": "https://localhost:8080/"
        },
        "id": "1v__tAov_4no",
        "outputId": "280480c9-aff5-433e-f1fb-4a6d31145ec2"
      },
      "outputs": [
        {
          "output_type": "stream",
          "name": "stdout",
          "text": [
            "+--------------+-----------+-------------+-----------+----+\n",
            "|     review_id|star_rating|helpful_votes|total_votes|vine|\n",
            "+--------------+-----------+-------------+-----------+----+\n",
            "|R1000AOQ477IHO|          5|            1|          1|   N|\n",
            "|R1000CY8CUFMZ9|          5|            1|          1|   N|\n",
            "|R1000F05FWCLJ9|          1|            1|          5|   N|\n",
            "|R1000KWQMMAXGC|          4|            0|          0|   N|\n",
            "|R1000N261FFXXE|          5|            1|          2|   N|\n",
            "|R1000N9U799D72|          5|            0|          0|   N|\n",
            "|R1000QRIVWFX35|          5|            0|          0|   N|\n",
            "|R10013PY0YSUUA|          5|            0|          0|   N|\n",
            "|R10018GZO3GUSW|          4|            1|          1|   N|\n",
            "|R1001O3QKO5WQR|          5|            0|          0|   N|\n",
            "+--------------+-----------+-------------+-----------+----+\n",
            "only showing top 10 rows\n",
            "\n"
          ]
        },
        {
          "output_type": "execute_result",
          "data": {
            "text/plain": [
              "[('review_id', 'string'),\n",
              " ('star_rating', 'int'),\n",
              " ('helpful_votes', 'int'),\n",
              " ('total_votes', 'int'),\n",
              " ('vine', 'string')]"
            ]
          },
          "metadata": {},
          "execution_count": 12
        }
      ],
      "source": [
        "from pyspark.sql.functions import *\n",
        "#create dataframe that corresponds to columns in review id table to load into data\n",
        "vine_df = ebooks_df.select([\"review_id\",col(\"star_rating\").cast('int').alias(\"star_rating\"),\"helpful_votes\",\"total_votes\",\"vine\"])\n",
        "vine_df.show(10)\n",
        "vine_df.dtypes\n"
      ]
    },
    {
      "cell_type": "code",
      "execution_count": 13,
      "metadata": {
        "colab": {
          "base_uri": "https://localhost:8080/"
        },
        "id": "xUWaZCM18xH8",
        "outputId": "0076648d-5567-456b-c1ef-fde40c147e37"
      },
      "outputs": [
        {
          "output_type": "stream",
          "name": "stdout",
          "text": [
            "+--------------+-----------+----------+--------------+-----------+\n",
            "|     review_id|customer_id|product_id|product_parent|review_date|\n",
            "+--------------+-----------+----------+--------------+-----------+\n",
            "|R1OHX24N3SF19Y|    3551713|B000UOJTUS|     979924066| 2015-01-31|\n",
            "| R4YGPE8NN4GYX|   51592060|B000FBJGEK|     814935595| 2015-01-31|\n",
            "| R1HNNEC53LM3A|   24774342|B013EJM84O|     720512082| 2015-01-31|\n",
            "| RWJ0D9J0IB44E|   15231743|B012QYRI70|     910744117| 2015-01-31|\n",
            "|R3PDPOO3M5B6M8|   34735923|B00CMEPMP0|     429592122| 2015-01-31|\n",
            "| RESQGFFOZ53XB|   49311003|B00ERY9RUE|     722237307| 2015-01-31|\n",
            "|R1NZBHLU2WS5V9|   38042627|B014AL0E96|     731783725| 2015-01-31|\n",
            "|R1Y8PZ55IIKF1J|   47818107|B00YALTL28|     769015206| 2015-01-31|\n",
            "|R19AQ5HOMURH7R|   47788531|B00VVQILD0|     127319812| 2015-01-31|\n",
            "| R1O7272BWVJLO|   46781834|B00Y6QF0PE|     474654167| 2015-01-31|\n",
            "+--------------+-----------+----------+--------------+-----------+\n",
            "only showing top 10 rows\n",
            "\n"
          ]
        },
        {
          "output_type": "execute_result",
          "data": {
            "text/plain": [
              "[('review_id', 'string'),\n",
              " ('customer_id', 'int'),\n",
              " ('product_id', 'string'),\n",
              " ('product_parent', 'int'),\n",
              " ('review_date', 'date')]"
            ]
          },
          "metadata": {},
          "execution_count": 13
        }
      ],
      "source": [
        "\n",
        "#create dataframe that corresponds to columns in vine_table to load into data\n",
        "review_id_df = ebooks_df.select([\"review_id\",\"customer_id\",\"product_id\",\"product_parent\", \n",
        "                                 to_date(col(\"review_date\"),\"yyyy-mm-dd\").alias(\"review_date\")])\n",
        "review_id_df.show(10)\n",
        "review_id_df.dtypes\n"
      ]
    },
    {
      "cell_type": "code",
      "execution_count": 14,
      "metadata": {
        "id": "Y3cGAw8KPlyd"
      },
      "outputs": [],
      "source": [
        "# Configure settings to connect Postgres\n",
        "mode = \"overwrite\"  # use append here if adding data to the table\n",
        "jdbc_url=\"jdbc:postgresql://gatechtest.cdie7a4an9rx.us-east-1.rds.amazonaws.com:5432/reviewdata\"\n",
        "config = {\"user\":\"postgres\", \n",
        "          \"password\": \"Georgia!906\", \n",
        "          \"driver\":\"org.postgresql.Driver\"}\n"
      ]
    },
    {
      "cell_type": "code",
      "execution_count": 15,
      "metadata": {
        "id": "4T1McY2aTC4j"
      },
      "outputs": [],
      "source": [
        "#load data into customers table in AWS Postgres database\n",
        "customer_info_df.write.jdbc(url=jdbc_url, table='customers', mode=mode, properties=config)"
      ]
    },
    {
      "cell_type": "code",
      "execution_count": 16,
      "metadata": {
        "colab": {
          "base_uri": "https://localhost:8080/"
        },
        "id": "nX2w_mn6TOew",
        "outputId": "e0bf1996-aa23-4ce8-d65d-5313b2f50a65"
      },
      "outputs": [
        {
          "output_type": "stream",
          "name": "stdout",
          "text": [
            "Load of customer table complete, number of records are: 4030694\n"
          ]
        }
      ],
      "source": [
        "customer_table_count = spark.read.jdbc(url=jdbc_url, table='customers', properties=config)\n",
        "print(\"Load of customer table complete, number of records are:\", customer_table_count.count())"
      ]
    },
    {
      "cell_type": "code",
      "execution_count": 17,
      "metadata": {
        "id": "sUORLIMj3yKv",
        "colab": {
          "base_uri": "https://localhost:8080/"
        },
        "outputId": "6e735e40-3806-429d-cf1c-7721f87d7cff"
      },
      "outputs": [
        {
          "output_type": "stream",
          "name": "stdout",
          "text": [
            "Number of records for dataframe customer_info_df 4030694\n"
          ]
        }
      ],
      "source": [
        "# Prints the number of records in each dataframe\n",
        "print(\"Number of records for dataframe customer_info_df\", customer_info_df.count())"
      ]
    },
    {
      "cell_type": "code",
      "execution_count": 18,
      "metadata": {
        "id": "MZHFE4B5Sehm"
      },
      "outputs": [],
      "source": [
        " # load  data into review_id_table AWS Postgres database\n",
        "review_id_df.write.jdbc(url=jdbc_url, table='review_id_table', mode=mode, properties=config)"
      ]
    },
    {
      "cell_type": "code",
      "execution_count": 19,
      "metadata": {
        "id": "zliEuYEYp3Ce",
        "colab": {
          "base_uri": "https://localhost:8080/"
        },
        "outputId": "b4bf090f-fba1-4a16-82cf-bc997b0153cf"
      },
      "outputs": [
        {
          "output_type": "stream",
          "name": "stdout",
          "text": [
            "Load of review_id_table table complete, total number of records are: 12518702\n"
          ]
        }
      ],
      "source": [
        "#review how many records in the table\n",
        "\n",
        "\n",
        "review_id_table_count = spark.read.jdbc(url=jdbc_url, table='review_id_table', properties=config)\n",
        "print(\"Load of review_id_table table complete, total number of records are:\", review_id_table_count.count())"
      ]
    },
    {
      "cell_type": "code",
      "execution_count": 20,
      "metadata": {
        "id": "gmnCBNCl4Fbq",
        "colab": {
          "base_uri": "https://localhost:8080/"
        },
        "outputId": "1766a98f-e64f-4244-80b1-19532ba80c00"
      },
      "outputs": [
        {
          "output_type": "stream",
          "name": "stdout",
          "text": [
            "Number of records for dataframe review_id_df 12518702\n"
          ]
        }
      ],
      "source": [
        "# Prints the number of records in each dataframe\n",
        "\n",
        "print(\"Number of records for dataframe review_id_df\", review_id_df.count())"
      ]
    },
    {
      "cell_type": "code",
      "execution_count": 21,
      "metadata": {
        "id": "xmaJQHJrSuQY"
      },
      "outputs": [],
      "source": [
        "#load data into Products table in AWS Postgres database\n",
        "#review how many records in the table \n",
        "product_df.write.jdbc(url=jdbc_url, table='products', mode=mode, properties=config)"
      ]
    },
    {
      "cell_type": "code",
      "execution_count": 22,
      "metadata": {
        "id": "4qnuvwttt74S",
        "colab": {
          "base_uri": "https://localhost:8080/"
        },
        "outputId": "d4ecb2b6-1b9e-4bed-a8d2-83dd1adf0d4d"
      },
      "outputs": [
        {
          "output_type": "stream",
          "name": "stdout",
          "text": [
            "Load of products table complete, total number of records are: 12518702\n"
          ]
        }
      ],
      "source": [
        "products_table_count = spark.read.jdbc(url=jdbc_url, table='products',properties=config)\n",
        "print(\"Load of products table complete, total number of records are:\", products_table_count.count())"
      ]
    },
    {
      "cell_type": "code",
      "execution_count": 23,
      "metadata": {
        "id": "fAAUlR_nKAI6",
        "colab": {
          "base_uri": "https://localhost:8080/"
        },
        "outputId": "6df7227a-5310-4edb-b4bf-14207a245e79"
      },
      "outputs": [
        {
          "output_type": "stream",
          "name": "stdout",
          "text": [
            "Number of records for dataframe products 12518702\n"
          ]
        }
      ],
      "source": [
        "# Prints the number of records in each dataframe\n",
        "\n",
        "print(\"Number of records for dataframe products\", product_df.count())"
      ]
    },
    {
      "cell_type": "code",
      "execution_count": 24,
      "metadata": {
        "id": "cbE9CnfhSmKv"
      },
      "outputs": [],
      "source": [
        "#load data into vine_table in AWS Postgres Database\n",
        "vine_df.write.jdbc(url=jdbc_url, table='vine_table', mode=mode, properties=config)"
      ]
    },
    {
      "cell_type": "code",
      "execution_count": 25,
      "metadata": {
        "id": "VNGA0Qj7uPBx",
        "colab": {
          "base_uri": "https://localhost:8080/"
        },
        "outputId": "98e20a8e-6bde-4428-d31a-a7f532dba453"
      },
      "outputs": [
        {
          "output_type": "stream",
          "name": "stdout",
          "text": [
            "Load of vine table complete, total number of records are: 12518702\n"
          ]
        }
      ],
      "source": [
        "vine_table_count = spark.read.jdbc(url=jdbc_url, table='vine_table', properties=config)\n",
        "print(\"Load of vine table complete, total number of records are:\", vine_table_count.count())"
      ]
    },
    {
      "cell_type": "code",
      "execution_count": 26,
      "metadata": {
        "id": "ijVC_e0ent52",
        "colab": {
          "base_uri": "https://localhost:8080/"
        },
        "outputId": "7927b4f6-6fdc-4a81-f217-a5ce6a9a37af"
      },
      "outputs": [
        {
          "output_type": "stream",
          "name": "stdout",
          "text": [
            "Number of records for dataframe vines df 12518702\n"
          ]
        }
      ],
      "source": [
        "# Prints the number of records in each dataframe\n",
        "\n",
        "print(\"Number of records for dataframe vines df\", vine_df.count())\n"
      ]
    }
  ],
  "metadata": {
    "colab": {
      "provenance": []
    },
    "kernelspec": {
      "display_name": "Python 3",
      "name": "python3"
    },
    "language_info": {
      "name": "python"
    }
  },
  "nbformat": 4,
  "nbformat_minor": 0
}