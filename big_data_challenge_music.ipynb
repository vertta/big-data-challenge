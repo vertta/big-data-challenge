{
  "cells": [
    {
      "cell_type": "code",
      "execution_count": 2,
      "metadata": {
        "colab": {
          "base_uri": "https://localhost:8080/"
        },
        "id": "9x0bl7Fbd6C2",
        "outputId": "fc61a385-9906-4538-c54c-c2d9d44d7eea"
      },
      "outputs": [
        {
          "output_type": "stream",
          "name": "stdout",
          "text": [
            "\r0% [Working]\r            \rGet:1 https://cloud.r-project.org/bin/linux/ubuntu bionic-cran40/ InRelease [3,626 B]\n",
            "\r0% [Connecting to archive.ubuntu.com] [Connecting to security.ubuntu.com (185.1\r0% [Connecting to archive.ubuntu.com] [Connecting to security.ubuntu.com (185.1\r0% [1 InRelease gpgv 3,626 B] [Connecting to archive.ubuntu.com] [Connecting to\r                                                                               \rIgn:2 https://developer.download.nvidia.com/compute/machine-learning/repos/ubuntu1804/x86_64  InRelease\n",
            "\r0% [1 InRelease gpgv 3,626 B] [Connecting to archive.ubuntu.com] [Connecting to\r                                                                               \rHit:3 https://developer.download.nvidia.com/compute/cuda/repos/ubuntu1804/x86_64  InRelease\n",
            "Hit:4 https://developer.download.nvidia.com/compute/machine-learning/repos/ubuntu1804/x86_64  Release\n",
            "Get:5 http://security.ubuntu.com/ubuntu bionic-security InRelease [88.7 kB]\n",
            "Get:6 http://ppa.launchpad.net/c2d4u.team/c2d4u4.0+/ubuntu bionic InRelease [15.9 kB]\n",
            "Hit:7 http://archive.ubuntu.com/ubuntu bionic InRelease\n",
            "Get:8 http://archive.ubuntu.com/ubuntu bionic-updates InRelease [88.7 kB]\n",
            "Hit:10 http://ppa.launchpad.net/cran/libgit2/ubuntu bionic InRelease\n",
            "Get:11 http://archive.ubuntu.com/ubuntu bionic-backports InRelease [83.3 kB]\n",
            "Hit:12 http://ppa.launchpad.net/deadsnakes/ppa/ubuntu bionic InRelease\n",
            "Hit:13 http://ppa.launchpad.net/graphics-drivers/ppa/ubuntu bionic InRelease\n",
            "Get:14 http://ppa.launchpad.net/c2d4u.team/c2d4u4.0+/ubuntu bionic/main Sources [2,219 kB]\n",
            "Get:15 http://security.ubuntu.com/ubuntu bionic-security/multiverse amd64 Packages [22.8 kB]\n",
            "Get:16 http://security.ubuntu.com/ubuntu bionic-security/universe amd64 Packages [1,559 kB]\n",
            "Get:17 http://archive.ubuntu.com/ubuntu bionic-updates/universe amd64 Packages [2,333 kB]\n",
            "Get:18 http://security.ubuntu.com/ubuntu bionic-security/restricted amd64 Packages [1,262 kB]\n",
            "Get:19 http://security.ubuntu.com/ubuntu bionic-security/main amd64 Packages [3,065 kB]\n",
            "Get:20 http://ppa.launchpad.net/c2d4u.team/c2d4u4.0+/ubuntu bionic/main amd64 Packages [1,135 kB]\n",
            "Get:21 http://archive.ubuntu.com/ubuntu bionic-updates/restricted amd64 Packages [1,303 kB]\n",
            "Get:22 http://archive.ubuntu.com/ubuntu bionic-updates/main amd64 Packages [3,493 kB]\n",
            "Get:23 http://archive.ubuntu.com/ubuntu bionic-updates/multiverse amd64 Packages [29.9 kB]\n",
            "Fetched 16.7 MB in 4s (3,799 kB/s)\n",
            "Reading package lists... Done\n"
          ]
        }
      ],
      "source": [
        "import os\n",
        "# Find the latest version of spark 3.2  from http://www.apache.org/dist/spark/ and enter as the spark version\n",
        "# For example:\n",
        "spark_version = 'spark-3.2.2'\n",
        "os.environ['SPARK_VERSION']=spark_version\n",
        "\n",
        "# Install Spark and Java\n",
        "!apt-get update\n",
        "!apt-get install openjdk-8-jdk-headless -qq > /dev/null\n",
        "!wget -q http://www.apache.org/dist/spark/$SPARK_VERSION/$SPARK_VERSION-bin-hadoop2.7.tgz\n",
        "!tar xf $SPARK_VERSION-bin-hadoop2.7.tgz\n",
        "!pip install -q findspark\n",
        "\n",
        "# Set Environment Variables\n",
        "os.environ[\"JAVA_HOME\"] = \"/usr/lib/jvm/java-8-openjdk-amd64\"\n",
        "os.environ[\"SPARK_HOME\"] = f\"/content/{spark_version}-bin-hadoop2.7\"\n",
        "\n",
        "# Start a SparkSession\n",
        "import findspark\n",
        "findspark.init()"
      ]
    },
    {
      "cell_type": "code",
      "execution_count": 3,
      "metadata": {
        "colab": {
          "base_uri": "https://localhost:8080/"
        },
        "id": "lEqSpg1j1jbB",
        "outputId": "3729f317-5a66-41e8-b0a9-3ec929ff2ff4"
      },
      "outputs": [
        {
          "output_type": "stream",
          "name": "stdout",
          "text": [
            "--2022-11-16 03:39:03--  https://jdbc.postgresql.org/download/postgresql-42.2.9.jar\n",
            "Resolving jdbc.postgresql.org (jdbc.postgresql.org)... 72.32.157.228, 2001:4800:3e1:1::228\n",
            "Connecting to jdbc.postgresql.org (jdbc.postgresql.org)|72.32.157.228|:443... connected.\n",
            "HTTP request sent, awaiting response... 200 OK\n",
            "Length: 914037 (893K) [application/java-archive]\n",
            "Saving to: ‘postgresql-42.2.9.jar’\n",
            "\n",
            "postgresql-42.2.9.j 100%[===================>] 892.61K  4.56MB/s    in 0.2s    \n",
            "\n",
            "2022-11-16 03:39:03 (4.56 MB/s) - ‘postgresql-42.2.9.jar’ saved [914037/914037]\n",
            "\n"
          ]
        }
      ],
      "source": [
        "!wget https://jdbc.postgresql.org/download/postgresql-42.2.9.jar"
      ]
    },
    {
      "cell_type": "code",
      "execution_count": 4,
      "metadata": {
        "id": "z8iKgfoxqcY9"
      },
      "outputs": [],
      "source": [
        "# create spark session\n",
        "\n",
        "from pyspark.sql import SparkSession\n",
        "from pyspark.sql.types import IntegerType,BooleanType,DateType\n",
        "spark = SparkSession.builder.appName(\"big-data-challenge\").config(\"spark.driver.extraClassPath\",\"/content/postgresql-42.2.9.jar\").getOrCreate()"
      ]
    },
    {
      "cell_type": "code",
      "execution_count": 5,
      "metadata": {
        "colab": {
          "base_uri": "https://localhost:8080/"
        },
        "id": "EDPM3QpkqkyW",
        "outputId": "6fcdd852-bb4c-43df-f4d1-24abde5c399c"
      },
      "outputs": [
        {
          "output_type": "stream",
          "name": "stdout",
          "text": [
            "+-----------+-----------+--------------+----------+--------------+--------------------+--------------------+-----------+-------------+-----------+----+-----------------+--------------------+--------------------+-------------------+\n",
            "|marketplace|customer_id|     review_id|product_id|product_parent|       product_title|    product_category|star_rating|helpful_votes|total_votes|vine|verified_purchase|     review_headline|         review_body|        review_date|\n",
            "+-----------+-----------+--------------+----------+--------------+--------------------+--------------------+-----------+-------------+-----------+----+-----------------+--------------------+--------------------+-------------------+\n",
            "|         US|   10293599|R14LVB34Z2Z53I|B000YMOQZY|     262935067|Knockin' On Heave...|Digital_Music_Pur...|          5|            0|          0|   N|                Y|           favorites|Great  rendition....|2015-01-31 00:08:00|\n",
            "|         US|    6087195|R2M0R9CWPC82LT|B00ISAEC80|     452318038|            Flawless|Digital_Music_Pur...|          5|            0|          0|   N|                Y|          Five Stars|A good music to l...|2015-01-31 00:08:00|\n",
            "|         US|   33717063| RQNQI2R3BM52A|B00VBB6AVU|     675969129|    Scandal of Grace|Digital_Music_Pur...|          4|            0|          0|   N|                Y|                Good|Not as good as th...|2015-01-31 00:08:00|\n",
            "|         US|   14948020| RTUIX1135HUAB|B008A5POJO|     282925893|  I Surrender (Live)|Digital_Music_Pur...|          5|            0|          0|   N|                Y|Wonderful lyrics!...|Time to worship a...|2015-01-31 00:08:00|\n",
            "|         US|   21694522| RE3QSAT8TL010|B014CW2RN4|     109077793|We Are Young (Jer...|Digital_Music_Pur...|          4|            0|          0|   N|                Y|Hot remix but too...|So this should be...|2015-01-31 00:08:00|\n",
            "|         US|   14948020|R14TN65IY0NUOD|B00DRA3EOY|     959245080|        Lord, I Live|Digital_Music_Pur...|          5|            0|          0|   N|                Y|          Five Stars|Clint Brown is an...|2015-01-31 00:08:00|\n",
            "|         US|   20031966|R3LIF8MCNH1ODF|B009G3U0PW|     762436916|  I'll Never Be Free|Digital_Music_Pur...|          5|            0|          0|   N|                Y|\"I'll never be fr...|LaVerne Butler is...|2015-01-31 00:08:00|\n",
            "|         US|   12223745|R33X0DGA4PPQ3L|B013XBYQOS|     137980344|    All of the Stars|Digital_Music_Pur...|          5|            3|          3|   N|                N| long awaited treat!|For some reason I...|2015-01-31 00:08:00|\n",
            "|         US|   30231876|R2DJJP7DQRT1ZW|B003L5H25W|     165995375|Exile On Main Str...|Digital_Music_Pur...|          5|            0|          1|   N|                Y|          Five Stars|The Stones at the...|2015-01-31 00:08:00|\n",
            "|         US|   51714365|R2A8XDXW5XOT4H|B00136NVH4|     227508666|     Bat Out Of Hell|Digital_Music_Pur...|          5|            0|          0|   N|                Y|    Transcends Time.|    Simply the best.|2015-01-31 00:08:00|\n",
            "+-----------+-----------+--------------+----------+--------------+--------------------+--------------------+-----------+-------------+-----------+----+-----------------+--------------------+--------------------+-------------------+\n",
            "only showing top 10 rows\n",
            "\n"
          ]
        }
      ],
      "source": [
        "from pyspark import SparkFiles\n",
        "# Load file\n",
        "\n",
        "url = \"https://s3.amazonaws.com/amazon-reviews-pds/tsv/amazon_reviews_us_Digital_Music_Purchase_v1_00.tsv.gz\" \n",
        "# get data from amazon S3 and  unzip extract files \n",
        "\n",
        "spark.sparkContext.addFile(url)\n",
        "\n",
        "music_df = spark.read.csv(SparkFiles.get(\"amazon_reviews_us_Digital_Music_Purchase_v1_00.tsv.gz\"), header=True, inferSchema=True, sep='\\t', timestampFormat=\"yyyy-mm-dd\")\n",
        "\n",
        "music_df.show(10)"
      ]
    },
    {
      "cell_type": "code",
      "execution_count": 5,
      "metadata": {
        "colab": {
          "base_uri": "https://localhost:8080/"
        },
        "id": "SIbJQnAK3I5Q",
        "outputId": "1eb94814-c65b-40de-87ee-bcc1ad5eb886"
      },
      "outputs": [
        {
          "output_type": "stream",
          "name": "stdout",
          "text": [
            "The of records for the music data set is: 1688884\n"
          ]
        }
      ],
      "source": [
        "\n",
        "print (\"The of records for the music data set is:\",music_df.count())\n"
      ]
    },
    {
      "cell_type": "code",
      "execution_count": 6,
      "metadata": {
        "colab": {
          "base_uri": "https://localhost:8080/"
        },
        "id": "W6IfDTLX68Vw",
        "outputId": "77375714-d172-4312-f039-154bf09aff34"
      },
      "outputs": [
        {
          "output_type": "stream",
          "name": "stdout",
          "text": [
            "+-----------+-----------+--------------+----------+--------------+--------------------+--------------------+-----------+-------------+-----------+----+-----------------+--------------------+--------------------+-------------------+\n",
            "|marketplace|customer_id|     review_id|product_id|product_parent|       product_title|    product_category|star_rating|helpful_votes|total_votes|vine|verified_purchase|     review_headline|         review_body|        review_date|\n",
            "+-----------+-----------+--------------+----------+--------------+--------------------+--------------------+-----------+-------------+-----------+----+-----------------+--------------------+--------------------+-------------------+\n",
            "|         US|   10293599|R14LVB34Z2Z53I|B000YMOQZY|     262935067|Knockin' On Heave...|Digital_Music_Pur...|          5|            0|          0|   N|                Y|           favorites|Great  rendition....|2015-01-31 00:08:00|\n",
            "|         US|    6087195|R2M0R9CWPC82LT|B00ISAEC80|     452318038|            Flawless|Digital_Music_Pur...|          5|            0|          0|   N|                Y|          Five Stars|A good music to l...|2015-01-31 00:08:00|\n",
            "|         US|   33717063| RQNQI2R3BM52A|B00VBB6AVU|     675969129|    Scandal of Grace|Digital_Music_Pur...|          4|            0|          0|   N|                Y|                Good|Not as good as th...|2015-01-31 00:08:00|\n",
            "|         US|   14948020| RTUIX1135HUAB|B008A5POJO|     282925893|  I Surrender (Live)|Digital_Music_Pur...|          5|            0|          0|   N|                Y|Wonderful lyrics!...|Time to worship a...|2015-01-31 00:08:00|\n",
            "|         US|   21694522| RE3QSAT8TL010|B014CW2RN4|     109077793|We Are Young (Jer...|Digital_Music_Pur...|          4|            0|          0|   N|                Y|Hot remix but too...|So this should be...|2015-01-31 00:08:00|\n",
            "|         US|   14948020|R14TN65IY0NUOD|B00DRA3EOY|     959245080|        Lord, I Live|Digital_Music_Pur...|          5|            0|          0|   N|                Y|          Five Stars|Clint Brown is an...|2015-01-31 00:08:00|\n",
            "|         US|   20031966|R3LIF8MCNH1ODF|B009G3U0PW|     762436916|  I'll Never Be Free|Digital_Music_Pur...|          5|            0|          0|   N|                Y|\"I'll never be fr...|LaVerne Butler is...|2015-01-31 00:08:00|\n",
            "|         US|   12223745|R33X0DGA4PPQ3L|B013XBYQOS|     137980344|    All of the Stars|Digital_Music_Pur...|          5|            3|          3|   N|                N| long awaited treat!|For some reason I...|2015-01-31 00:08:00|\n",
            "|         US|   30231876|R2DJJP7DQRT1ZW|B003L5H25W|     165995375|Exile On Main Str...|Digital_Music_Pur...|          5|            0|          1|   N|                Y|          Five Stars|The Stones at the...|2015-01-31 00:08:00|\n",
            "|         US|   51714365|R2A8XDXW5XOT4H|B00136NVH4|     227508666|     Bat Out Of Hell|Digital_Music_Pur...|          5|            0|          0|   N|                Y|    Transcends Time.|    Simply the best.|2015-01-31 00:08:00|\n",
            "|         US|   37216001|R3MJK3L7ER61TT|B0030AKPQ6|     164096943|Stronger Than Her...|Digital_Music_Pur...|          5|            0|          0|   N|                N|I Love The Flirta...|A very early hit ...|2015-01-31 00:08:00|\n",
            "|         US|   49207156|R38Z7XMCVDR0R5|B014EQE0V0|     714368268|You Hold It All (...|Digital_Music_Pur...|          5|            1|          1|   N|                Y|          Five Stars|Inspired by this ...|2015-01-31 00:08:00|\n",
            "|         US|    2472364|R3FFESBQXPR7S6|B00USW4ZVU|      50310906|   Pressure - Single|Digital_Music_Pur...|          4|            0|          0|   N|                Y|Talented new gosp...|Great new artist....|2015-01-31 00:08:00|\n",
            "|         US|   22612468|R3QO6Z942CKH34|B00ZZDJAX0|     162295903|What Are The Chan...|Digital_Music_Pur...|          5|            1|          1|   N|                Y|        Awesome song|Great song off th...|2015-01-31 00:08:00|\n",
            "|         US|    2254795|R297119MDWMG9P|B014DIWONU|      44838453|Beauty Behind The...|Digital_Music_Pur...|          5|            0|          0|   N|                Y|I love every song...|The weeknd is a m...|2015-01-31 00:08:00|\n",
            "|         US|   12408664| R7EJRSXIXMLIY|B005DPTQNE|     454271984|It's The Huck-A-B...|Digital_Music_Pur...|          5|            0|          0|   N|                Y|          Five Stars|       Sounds great!|2015-01-31 00:08:00|\n",
            "|         US|   36236254|R2EBGPZD0B3TSV|B004LI9ATO|     519024911|  Two Purple Shadows|Digital_Music_Pur...|          5|            0|          0|   N|                N|An oldie,,, but i...|An oldie , , , bu...|2015-01-31 00:08:00|\n",
            "|         US|   10456004|R229VSSFBNB90C|B00984QCM4|     647155979|         Consolation|Digital_Music_Pur...|          5|            0|          0|   N|                Y|          Five Stars|               great|2015-01-31 00:08:00|\n",
            "|         US|   16822806|R12YCDYTDBJH3X|B00ZKCAK4O|     346522639|One Man Army [Exp...|Digital_Music_Pur...|          5|            0|          0|   N|                Y|One Man Army! Dow...|Real Sh*t Right H...|2015-01-31 00:08:00|\n",
            "|         US|   30704319|R3DEVUNGQ2Y98S|B014GWCW8K|     260814213|Without You (feat...|Digital_Music_Pur...|          5|            0|          0|   N|                Y|          Five Stars|      Press Forward!|2015-01-31 00:08:00|\n",
            "+-----------+-----------+--------------+----------+--------------+--------------------+--------------------+-----------+-------------+-----------+----+-----------------+--------------------+--------------------+-------------------+\n",
            "only showing top 20 rows\n",
            "\n"
          ]
        }
      ],
      "source": [
        "# Drop null values, by default is any which means will drop any rows which has a NA\n",
        "music_df = music_df.dropna(how='any')\n",
        "music_df.show()"
      ]
    },
    {
      "cell_type": "code",
      "execution_count": 7,
      "metadata": {
        "colab": {
          "base_uri": "https://localhost:8080/"
        },
        "id": "3PG305zMCeCd",
        "outputId": "38647afb-0a7c-418a-a33f-d75189c9b0de"
      },
      "outputs": [
        {
          "output_type": "stream",
          "name": "stdout",
          "text": [
            "The count after dropping NA  1688606\n"
          ]
        }
      ],
      "source": [
        "# clean data by dropping NA and get count of data\n",
        "\n",
        "print(\"The count after dropping NA \", music_df.count())"
      ]
    },
    {
      "cell_type": "code",
      "execution_count": 8,
      "metadata": {
        "colab": {
          "base_uri": "https://localhost:8080/"
        },
        "id": "SopC_Z33IHxV",
        "outputId": "a13918e2-0872-449c-fa6c-8fcdfeed19b3"
      },
      "outputs": [
        {
          "output_type": "stream",
          "name": "stdout",
          "text": [
            "The count after dropping dropping Duplicates  1688606\n"
          ]
        }
      ],
      "source": [
        "#drop duplicates \n",
        "music_df = music_df.dropDuplicates([\"review_id\",\"customer_id\", \"product_id\"])\n",
        "\n",
        "print(\"The count after dropping dropping Duplicates \", music_df.count())"
      ]
    },
    {
      "cell_type": "code",
      "execution_count": 9,
      "metadata": {
        "colab": {
          "base_uri": "https://localhost:8080/"
        },
        "id": "1EMi-gWP9yXz",
        "outputId": "6a23393d-4bba-4f00-f884-8457b47add85"
      },
      "outputs": [
        {
          "output_type": "stream",
          "name": "stdout",
          "text": [
            "+-----------+--------------+\n",
            "|customer_id|customer_count|\n",
            "+-----------+--------------+\n",
            "|   24109146|             4|\n",
            "|   32798514|             2|\n",
            "|   14726743|             6|\n",
            "|     664644|             1|\n",
            "|    5455445|             3|\n",
            "|   36595320|             1|\n",
            "|   37004417|             1|\n",
            "|   14926470|             1|\n",
            "|   46600029|           153|\n",
            "|   44304979|             1|\n",
            "+-----------+--------------+\n",
            "only showing top 10 rows\n",
            "\n"
          ]
        },
        {
          "output_type": "execute_result",
          "data": {
            "text/plain": [
              "[('customer_id', 'int'), ('customer_count', 'bigint')]"
            ]
          },
          "metadata": {},
          "execution_count": 9
        }
      ],
      "source": [
        "#create dataframe that corresponds to customers table  with counts of records per user\n",
        "customer_info_df = music_df.groupby(\"customer_id\").agg({\"customer_id\": \"count\"})\n",
        "customer_info_df = customer_info_df.withColumnRenamed(\"count(customer_id)\", \"customer_count\")\n",
        "customer_info_df.show(10)\n",
        "customer_info_df.dtypes"
      ]
    },
    {
      "cell_type": "code",
      "execution_count": 13,
      "metadata": {
        "colab": {
          "base_uri": "https://localhost:8080/"
        },
        "id": "L7Lq3kFC70R6",
        "outputId": "2eff3acd-1699-4b76-b11a-105a421fcccb"
      },
      "outputs": [
        {
          "output_type": "stream",
          "name": "stdout",
          "text": [
            "+----------+--------------------+\n",
            "|product_id|       product_title|\n",
            "+----------+--------------------+\n",
            "|B000YMOQZY|Knockin' On Heave...|\n",
            "|B00ISAEC80|            Flawless|\n",
            "|B00VBB6AVU|    Scandal of Grace|\n",
            "|B008A5POJO|  I Surrender (Live)|\n",
            "|B014CW2RN4|We Are Young (Jer...|\n",
            "|B00DRA3EOY|        Lord, I Live|\n",
            "|B009G3U0PW|  I'll Never Be Free|\n",
            "|B013XBYQOS|    All of the Stars|\n",
            "|B003L5H25W|Exile On Main Str...|\n",
            "|B00136NVH4|     Bat Out Of Hell|\n",
            "+----------+--------------------+\n",
            "only showing top 10 rows\n",
            "\n",
            "Count of Products 1688606\n"
          ]
        }
      ],
      "source": [
        "##create dataframe that corresponds to columns in Products to load into data\n",
        "product_df = music_df.select([\"product_id\",\"product_title\"])\n",
        "product_df.show(10)\n",
        "product_df.dtypes\n",
        "print (\"Count of Products\", product_df.count())"
      ]
    },
    {
      "cell_type": "code",
      "execution_count": 7,
      "metadata": {
        "colab": {
          "base_uri": "https://localhost:8080/"
        },
        "id": "1v__tAov_4no",
        "outputId": "703c5fef-29bf-404b-8e71-cc3f3d8dde47"
      },
      "outputs": [
        {
          "output_type": "stream",
          "name": "stdout",
          "text": [
            "+--------------+-----------+-------------+-----------+----+\n",
            "|     review_id|star_rating|helpful_votes|total_votes|vine|\n",
            "+--------------+-----------+-------------+-----------+----+\n",
            "|R14LVB34Z2Z53I|          5|            0|          0|   N|\n",
            "|R2M0R9CWPC82LT|          5|            0|          0|   N|\n",
            "| RQNQI2R3BM52A|          4|            0|          0|   N|\n",
            "| RTUIX1135HUAB|          5|            0|          0|   N|\n",
            "| RE3QSAT8TL010|          4|            0|          0|   N|\n",
            "|R14TN65IY0NUOD|          5|            0|          0|   N|\n",
            "|R3LIF8MCNH1ODF|          5|            0|          0|   N|\n",
            "|R33X0DGA4PPQ3L|          5|            3|          3|   N|\n",
            "|R2DJJP7DQRT1ZW|          5|            0|          1|   N|\n",
            "|R2A8XDXW5XOT4H|          5|            0|          0|   N|\n",
            "+--------------+-----------+-------------+-----------+----+\n",
            "only showing top 10 rows\n",
            "\n",
            "Number of Vines 1688606\n"
          ]
        }
      ],
      "source": [
        "from pyspark.sql.functions import *\n",
        "#create dataframe that corresponds to columns in vine_table to load into data\n",
        "vine_df = music_df.select([\"review_id\",col(\"star_rating\").cast('int').alias(\"star_rating\"),\"helpful_votes\",\"total_votes\",\"vine\"])\n",
        "vine_df.show(10)\n",
        "vine_df.dtypes\n",
        "print (\"Number of Vines\", vine_df.count())"
      ]
    },
    {
      "cell_type": "code",
      "execution_count": 8,
      "metadata": {
        "colab": {
          "base_uri": "https://localhost:8080/"
        },
        "id": "xUWaZCM18xH8",
        "outputId": "c56281a9-1777-40db-a92b-37bdf9c182f3"
      },
      "outputs": [
        {
          "output_type": "stream",
          "name": "stdout",
          "text": [
            "+--------------+-----------+----------+--------------+-----------+\n",
            "|     review_id|customer_id|product_id|product_parent|review_date|\n",
            "+--------------+-----------+----------+--------------+-----------+\n",
            "|R14LVB34Z2Z53I|   10293599|B000YMOQZY|     262935067| 2015-01-31|\n",
            "|R2M0R9CWPC82LT|    6087195|B00ISAEC80|     452318038| 2015-01-31|\n",
            "| RQNQI2R3BM52A|   33717063|B00VBB6AVU|     675969129| 2015-01-31|\n",
            "| RTUIX1135HUAB|   14948020|B008A5POJO|     282925893| 2015-01-31|\n",
            "| RE3QSAT8TL010|   21694522|B014CW2RN4|     109077793| 2015-01-31|\n",
            "|R14TN65IY0NUOD|   14948020|B00DRA3EOY|     959245080| 2015-01-31|\n",
            "|R3LIF8MCNH1ODF|   20031966|B009G3U0PW|     762436916| 2015-01-31|\n",
            "|R33X0DGA4PPQ3L|   12223745|B013XBYQOS|     137980344| 2015-01-31|\n",
            "|R2DJJP7DQRT1ZW|   30231876|B003L5H25W|     165995375| 2015-01-31|\n",
            "|R2A8XDXW5XOT4H|   51714365|B00136NVH4|     227508666| 2015-01-31|\n",
            "+--------------+-----------+----------+--------------+-----------+\n",
            "only showing top 10 rows\n",
            "\n",
            "Number of Review Ids 1688606\n"
          ]
        }
      ],
      "source": [
        "\n",
        "#create dataframe that corresponds to columns in vine_table to load into data\n",
        "review_id_df = music_df.select([\"review_id\",\"customer_id\",\"product_id\",\"product_parent\", \n",
        "                                 to_date(col(\"review_date\"),\"yyyy-mm-dd\").alias(\"review_date\")])\n",
        "review_id_df.show(10)\n",
        "review_id_df.dtypes\n",
        "print(\"Number of Review Ids\", review_id_df.count())"
      ]
    },
    {
      "cell_type": "code",
      "execution_count": 10,
      "metadata": {
        "id": "Y3cGAw8KPlyd"
      },
      "outputs": [],
      "source": [
        "# Configure settings to connect Postgres\n",
        "mode = \"append\"  # appending data to table that already has data for ebooks\n",
        "jdbc_url=\"jdbc:postgresql:****:5432/****\"\n",
        "config = {\"user\":\"postgres\", \n",
        "          \"password\": \"*****\", \n",
        "          \"driver\":\"org.postgresql.Driver\"}\n"
      ]
    },
    {
      "cell_type": "code",
      "execution_count": 14,
      "metadata": {
        "colab": {
          "base_uri": "https://localhost:8080/"
        },
        "id": "nX2w_mn6TOew",
        "outputId": "249289ef-7ae4-477c-bb14-bb05061d180b"
      },
      "outputs": [
        {
          "output_type": "stream",
          "name": "stdout",
          "text": [
            "Initial Table count for customers table: 4030694\n"
          ]
        }
      ],
      "source": [
        "#review the initial count of  how many records in the table\n",
        "customer_tab_cnt = spark.read.jdbc(url=jdbc_url, table='customers', properties=config)\n",
        "print(\"Initial Table count for customers table:\", customer_tab_cnt.count())"
      ]
    },
    {
      "cell_type": "code",
      "source": [
        "print (\"The number of records in the customers dataframe:\", customer_info_df.count())"
      ],
      "metadata": {
        "colab": {
          "base_uri": "https://localhost:8080/"
        },
        "id": "P68fGrQr9iud",
        "outputId": "08abe1a2-7a53-4cbb-ed74-cddb171391c4"
      },
      "execution_count": 15,
      "outputs": [
        {
          "output_type": "stream",
          "name": "stdout",
          "text": [
            "The number of records in the customers dataframe: 798772\n"
          ]
        }
      ]
    },
    {
      "cell_type": "code",
      "execution_count": 16,
      "metadata": {
        "id": "4T1McY2aTC4j"
      },
      "outputs": [],
      "source": [
        "#load data into customers table in AWS Postgres database\n",
        "customer_info_df.write.jdbc(url=jdbc_url, table='customers', mode=mode, properties=config)"
      ]
    },
    {
      "cell_type": "code",
      "source": [
        "customer_cnt_after = spark.read.jdbc(url=jdbc_url, table='customers', properties=config)\n",
        "print(\"Table count after data is loaded into customers table:\", customer_cnt_after.count())"
      ],
      "metadata": {
        "colab": {
          "base_uri": "https://localhost:8080/"
        },
        "id": "yCPVguXZ95uI",
        "outputId": "dcaadbe0-ba17-463d-c37d-7c667637d5db"
      },
      "execution_count": 17,
      "outputs": [
        {
          "output_type": "stream",
          "name": "stdout",
          "text": [
            "Table count after data is loaded into customers table: 4829466\n"
          ]
        }
      ]
    },
    {
      "cell_type": "code",
      "source": [
        "print (\"The number of records in the review_id_table dataframe:\", review_id_df.count())"
      ],
      "metadata": {
        "colab": {
          "base_uri": "https://localhost:8080/"
        },
        "id": "SXPB4p6DEQui",
        "outputId": "c1bc9ba7-f061-418b-e06b-6e26fd428991"
      },
      "execution_count": 18,
      "outputs": [
        {
          "output_type": "stream",
          "name": "stdout",
          "text": [
            "The number of records in the review_id_table dataframe: 1688606\n"
          ]
        }
      ]
    },
    {
      "cell_type": "code",
      "execution_count": 19,
      "metadata": {
        "colab": {
          "base_uri": "https://localhost:8080/"
        },
        "outputId": "f62f15c7-f3fc-4a61-fd7b-b4882a3fa472",
        "id": "E5YY2Dam-Yaa"
      },
      "outputs": [
        {
          "output_type": "stream",
          "name": "stdout",
          "text": [
            "Initial Table count for review_id_table : 12518702\n"
          ]
        }
      ],
      "source": [
        "#review the initial count of  how many records in the table\n",
        "review_id_tab_cnt = spark.read.jdbc(url=jdbc_url, table='review_id_table', properties=config)\n",
        "print(\"Initial Table count for review_id_table :\", review_id_tab_cnt.count())"
      ]
    },
    {
      "cell_type": "code",
      "execution_count": 20,
      "metadata": {
        "id": "MZHFE4B5Sehm"
      },
      "outputs": [],
      "source": [
        " # load  data into review_id_table AWS Postgres database\n",
        "review_id_df.write.jdbc(url=jdbc_url, table='review_id_table', mode=mode, properties=config)"
      ]
    },
    {
      "cell_type": "code",
      "execution_count": 11,
      "metadata": {
        "colab": {
          "base_uri": "https://localhost:8080/"
        },
        "outputId": "0fd42ee7-a732-4e03-9cf5-92a86a412387",
        "id": "aAPhl2T6Ej9a"
      },
      "outputs": [
        {
          "output_type": "stream",
          "name": "stdout",
          "text": [
            "Table count after data loaded into review_id_table : 14207308\n"
          ]
        }
      ],
      "source": [
        "review_id_cnt_after = spark.read.jdbc(url=jdbc_url, table='review_id_table', properties=config)\n",
        "print(\"Table count after data loaded into review_id_table :\", review_id_cnt_after.count())"
      ]
    },
    {
      "cell_type": "code",
      "source": [
        "print (\"The number of records in the products dataframe:\", product_df.count())"
      ],
      "metadata": {
        "colab": {
          "base_uri": "https://localhost:8080/"
        },
        "id": "cKqd2MiqHj2E",
        "outputId": "28ed3ac5-ffa1-4337-ae9c-16d3fa111d74"
      },
      "execution_count": 14,
      "outputs": [
        {
          "output_type": "stream",
          "name": "stdout",
          "text": [
            "The number of records in the products dataframe: 1688606\n"
          ]
        }
      ]
    },
    {
      "cell_type": "code",
      "execution_count": 15,
      "metadata": {
        "colab": {
          "base_uri": "https://localhost:8080/"
        },
        "id": "zliEuYEYp3Ce",
        "outputId": "38879672-d193-4338-f64d-7ed31af0be5f"
      },
      "outputs": [
        {
          "output_type": "stream",
          "name": "stdout",
          "text": [
            "Initial Table count for products: 12518702\n"
          ]
        }
      ],
      "source": [
        "#review the initial count of  how many records in the table\n",
        "\n",
        "products_table_count = spark.read.jdbc(url=jdbc_url, table='products', properties=config)\n",
        "print(\"Initial Table count for products:\", products_table_count.count())"
      ]
    },
    {
      "cell_type": "code",
      "execution_count": 16,
      "metadata": {
        "id": "xmaJQHJrSuQY"
      },
      "outputs": [],
      "source": [
        "#load data into Products table in AWS Postgres database\n",
        "#review how many records in the table \n",
        "product_df.write.jdbc(url=jdbc_url, table='products', mode=mode, properties=config)"
      ]
    },
    {
      "cell_type": "code",
      "execution_count": 17,
      "metadata": {
        "colab": {
          "base_uri": "https://localhost:8080/"
        },
        "id": "4qnuvwttt74S",
        "outputId": "70896bf7-f082-42be-d795-eab8f384b4a5"
      },
      "outputs": [
        {
          "output_type": "stream",
          "name": "stdout",
          "text": [
            "Table count after data loaded into products table: 14207308\n"
          ]
        }
      ],
      "source": [
        "products_cnt_after = spark.read.jdbc(url=jdbc_url, table='products',properties=config)\n",
        "print(\"Table count after data loaded into products table:\", products_cnt_after.count())"
      ]
    },
    {
      "cell_type": "code",
      "source": [
        "print (\"The number of records in the vines_df dataframe:\", vine_df.count())"
      ],
      "metadata": {
        "id": "ssMJWZwrIOoE",
        "colab": {
          "base_uri": "https://localhost:8080/"
        },
        "outputId": "812fc634-4f0f-4f64-8c0a-e110a746eb67"
      },
      "execution_count": 18,
      "outputs": [
        {
          "output_type": "stream",
          "name": "stdout",
          "text": [
            "The number of records in the vines_df dataframe: 1688606\n"
          ]
        }
      ]
    },
    {
      "cell_type": "code",
      "source": [
        "#review the initial count of  how many records in the table\n",
        "\n",
        "vine_table_count = spark.read.jdbc(url=jdbc_url, table='vine_table', properties=config)\n",
        "print(\"Initial Table count for vine_table:\", vine_table_count.count())"
      ],
      "metadata": {
        "id": "sESYUboSIWzi",
        "colab": {
          "base_uri": "https://localhost:8080/"
        },
        "outputId": "2c2d9d0e-f2ec-4f10-fad2-5f83433c667f"
      },
      "execution_count": 19,
      "outputs": [
        {
          "output_type": "stream",
          "name": "stdout",
          "text": [
            "Initial Table count for vine_table: 12518702\n"
          ]
        }
      ]
    },
    {
      "cell_type": "code",
      "execution_count": 20,
      "metadata": {
        "id": "cbE9CnfhSmKv"
      },
      "outputs": [],
      "source": [
        "#load data into vine_table in AWS Postgres Database\n",
        "vine_df.write.jdbc(url=jdbc_url, table='vine_table', mode=mode, properties=config)"
      ]
    },
    {
      "cell_type": "code",
      "execution_count": 21,
      "metadata": {
        "id": "VNGA0Qj7uPBx",
        "colab": {
          "base_uri": "https://localhost:8080/"
        },
        "outputId": "fbb6ef61-d054-4181-c4c6-d3406ccc4870"
      },
      "outputs": [
        {
          "output_type": "stream",
          "name": "stdout",
          "text": [
            "Table count after data loaded into vine_table: 14207308\n"
          ]
        }
      ],
      "source": [
        "vine_tab_cnt = spark.read.jdbc(url=jdbc_url, table='vine_table', properties=config)\n",
        "print(\"Table count after data loaded into vine_table:\", vine_tab_cnt.count())"
      ]
    }
  ],
  "metadata": {
    "colab": {
      "provenance": []
    },
    "kernelspec": {
      "display_name": "Python 3",
      "language": "python",
      "name": "python3"
    },
    "language_info": {
      "name": "python",
      "version": "3.10.8 (tags/v3.10.8:aaaf517, Oct 11 2022, 16:50:30) [MSC v.1933 64 bit (AMD64)]"
    },
    "vscode": {
      "interpreter": {
        "hash": "617cae3cc6f85ac5af116a6e8adfeea988eab649c6290394cb4a8ae3bc84076b"
      }
    }
  },
  "nbformat": 4,
  "nbformat_minor": 0
}
